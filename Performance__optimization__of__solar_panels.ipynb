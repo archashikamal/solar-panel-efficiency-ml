{
  "cells": [
    {
      "cell_type": "markdown",
      "metadata": {
        "id": "view-in-github",
        "colab_type": "text"
      },
      "source": [
        "<a href=\"https://colab.research.google.com/github/archashikamal/solar-panel-efficiency-ml/blob/main/Performance__optimization__of__solar_panels.ipynb\" target=\"_parent\"><img src=\"https://colab.research.google.com/assets/colab-badge.svg\" alt=\"Open In Colab\"/></a>"
      ]
    },
    {
      "cell_type": "code",
      "execution_count": null,
      "metadata": {
        "colab": {
          "background_save": true,
          "base_uri": "https://localhost:8080/"
        },
        "id": "LDMVu-FVi-Pn",
        "outputId": "21a1eed9-0e73-4c00-b5ba-62fdbc93fd62"
      },
      "outputs": [
        {
          "name": "stdout",
          "output_type": "stream",
          "text": [
            "Starting hyperparameter tuning...\n",
            "Fitting 3 folds for each of 10 candidates, totalling 30 fits\n",
            "Best parameters found: {'model__bootstrap': True, 'model__max_depth': 10, 'model__max_features': 'sqrt', 'model__min_samples_leaf': 1, 'model__min_samples_split': 2, 'model__n_estimators': 105}\n",
            "Best CV MSE: 0.018071750885422216\n",
            "\n",
            "Efficiency Prediction Results (5-Fold CV):\n",
            "  Fold 1: MSE=0.017728, RMSE=0.133145, R2=0.085843, Score=86.685455\n",
            "  Fold 2: MSE=0.018412, RMSE=0.135689, R2=0.077407, Score=86.431099\n",
            "  Fold 3: MSE=0.019075, RMSE=0.138114, R2=0.081500, Score=86.188630\n",
            "  Fold 4: MSE=0.017819, RMSE=0.133488, R2=0.089638, Score=86.651193\n",
            "  Fold 5: MSE=0.017290, RMSE=0.131493, R2=0.111160, Score=86.850672\n",
            "\n",
            "Average Results:\n",
            "  MSE:   0.018065\n",
            "  RMSE:  0.134386\n",
            "  R2:    0.089110\n",
            "  Score: 86.561410\n",
            "\n",
            "Submission file 'submission_final.csv' created!\n"
          ]
        }
      ],
      "source": [
        "# --- 1. Imports and Setup ---\n",
        "import pandas as pd\n",
        "import numpy as np\n",
        "\n",
        "from sklearn.model_selection import KFold, RandomizedSearchCV\n",
        "from sklearn.pipeline import Pipeline\n",
        "from sklearn.compose import ColumnTransformer\n",
        "from sklearn.impute import SimpleImputer\n",
        "from sklearn.preprocessing import StandardScaler, OneHotEncoder\n",
        "from sklearn.ensemble import RandomForestRegressor\n",
        "from sklearn.metrics import mean_squared_error, r2_score\n",
        "from scipy.stats import randint\n",
        "\n",
        "# --- 2. Load Data ---\n",
        "train_path = '/content/train.csv'\n",
        "test_path  = '/content/test.csv'\n",
        "\n",
        "train = pd.read_csv(train_path)\n",
        "test  = pd.read_csv(test_path)\n",
        "\n",
        "# --- 3. Feature Engineering & Data Cleaning ---\n",
        "def preprocess_data(df):\n",
        "    numerical_cols = ['voltage', 'current', 'temperature', 'humidity']\n",
        "    for col in numerical_cols:\n",
        "        df[col] = pd.to_numeric(df[col], errors='coerce')\n",
        "    df['Power'] = df['voltage'] * df['current']\n",
        "    df['error_code'] = df['error_code'].astype(str).fillna('Normal')\n",
        "    return df\n",
        "\n",
        "train = preprocess_data(train)\n",
        "test = preprocess_data(test)\n",
        "\n",
        "# --- 4. Define Features and Target ---\n",
        "numerical_features = ['voltage', 'current', 'Power', 'temperature', 'humidity']\n",
        "categorical_features = ['error_code']\n",
        "all_features = numerical_features + categorical_features\n",
        "target = 'efficiency'\n",
        "\n",
        "train_reg = train.dropna(subset=[target] + numerical_features)\n",
        "X = train_reg[all_features]\n",
        "y = train_reg[target]\n",
        "\n",
        "# --- 5. Preprocessing Pipeline ---\n",
        "numeric_transformer = Pipeline(steps=[\n",
        "    ('imputer', SimpleImputer(strategy='most_frequent')),\n",
        "    ('scaler', StandardScaler())\n",
        "])\n",
        "\n",
        "categorical_transformer = Pipeline(steps=[\n",
        "    ('imputer', SimpleImputer(strategy='most_frequent')),\n",
        "    ('onehot', OneHotEncoder(handle_unknown='ignore'))\n",
        "])\n",
        "\n",
        "preprocessor = ColumnTransformer(\n",
        "    transformers=[\n",
        "        ('num', numeric_transformer, numerical_features),\n",
        "        ('cat', categorical_transformer, categorical_features)\n",
        "    ]\n",
        ")\n",
        "\n",
        "# --- 6. Custom Score Function ---\n",
        "def custom_score(y_true, y_pred):\n",
        "    mse = mean_squared_error(y_true, y_pred)\n",
        "    return 100 * (1 - np.sqrt(mse))\n",
        "\n",
        "# --- 7. Hyperparameter Tuning (Colab-optimized) ---\n",
        "model = RandomForestRegressor(random_state=42)\n",
        "pipeline = Pipeline(steps=[\n",
        "    ('preprocessor', preprocessor),\n",
        "    ('model', model)\n",
        "])\n",
        "\n",
        "# Smaller parameter grid for Colab\n",
        "param_grid = {\n",
        "    'model__n_estimators': randint(100, 200),  # Random values between 100 and 200\n",
        "    'model__max_depth': [None, 10],\n",
        "    'model__max_features': ['sqrt'],\n",
        "    'model__min_samples_split': randint(2, 5),\n",
        "    'model__min_samples_leaf': randint(1, 3),  # Increased range slightly for variation\n",
        "    'model__bootstrap': [True]\n",
        "}\n",
        "\n",
        "grid_search = RandomizedSearchCV(\n",
        "    pipeline,\n",
        "    param_distributions=param_grid,\n",
        "    cv=3,              # Fewer folds for speed/memory\n",
        "    scoring='neg_mean_squared_error',\n",
        "    n_jobs=2,          # Limit parallel jobs for Colab\n",
        "    verbose=2\n",
        ")\n",
        "\n",
        "print(\"Starting hyperparameter tuning...\")\n",
        "grid_search.fit(X, y)\n",
        "print(\"Best parameters found:\", grid_search.best_params_)\n",
        "print(\"Best CV MSE:\", -grid_search.best_score_)\n",
        "\n",
        "best_pipeline = grid_search.best_estimator_\n",
        "\n",
        "# --- 8. Cross-Validation with Best Model ---\n",
        "kf = KFold(n_splits=5, shuffle=True, random_state=42)\n",
        "mse_scores, rmse_scores, r2_scores, score_scores = [], [], [], []\n",
        "\n",
        "print(\"\\nEfficiency Prediction Results (5-Fold CV):\")\n",
        "for fold, (train_idx, val_idx) in enumerate(kf.split(X)):\n",
        "    X_train, X_val = X.iloc[train_idx], X.iloc[val_idx]\n",
        "    y_train, y_val = y.iloc[train_idx], y.iloc[val_idx]\n",
        "\n",
        "    best_pipeline.fit(X_train, y_train)\n",
        "    y_pred = best_pipeline.predict(X_val)\n",
        "\n",
        "    mse = mean_squared_error(y_val, y_pred)\n",
        "    rmse = np.sqrt(mse)\n",
        "    r2 = r2_score(y_val, y_pred)\n",
        "    score = custom_score(y_val, y_pred)\n",
        "\n",
        "    mse_scores.append(mse)\n",
        "    rmse_scores.append(rmse)\n",
        "    r2_scores.append(r2)\n",
        "    score_scores.append(score)\n",
        "\n",
        "    print(f\"  Fold {fold+1}: MSE={mse:.6f}, RMSE={rmse:.6f}, R2={r2:.6f}, Score={score:.6f}\")\n",
        "\n",
        "print(\"\\nAverage Results:\")\n",
        "print(f\"  MSE:   {np.mean(mse_scores):.6f}\")\n",
        "print(f\"  RMSE:  {np.mean(rmse_scores):.6f}\")\n",
        "print(f\"  R2:    {np.mean(r2_scores):.6f}\")\n",
        "print(f\"  Score: {np.mean(score_scores):.6f}\")\n",
        "\n",
        "# --- 9. Train on Full Data and Predict Test Set ---\n",
        "best_pipeline.fit(X, y)\n",
        "X_test = test[all_features]\n",
        "efficiency_pred = best_pipeline.predict(X_test)\n",
        "\n",
        "# --- 10. Prepare Submission File ---\n",
        "submission = pd.DataFrame({\n",
        "    'id': test['id'],\n",
        "    'efficiency': efficiency_pred\n",
        "})\n",
        "\n",
        "assert submission.shape == (12000, 2), f\"Expected 12000x2, got {submission.shape}\"\n",
        "submission.to_csv('submission_final.csv', index=False)\n",
        "print(\"\\nSubmission file 'submission_final.csv' created!\")\n"
      ]
    },
    {
      "cell_type": "code",
      "execution_count": null,
      "metadata": {
        "colab": {
          "background_save": true
        },
        "id": "jCvTEvylA58_",
        "outputId": "650878e8-0f97-4609-f876-6846196809ea"
      },
      "outputs": [
        {
          "data": {
            "application/javascript": [
              "\n",
              "    async function download(id, filename, size) {\n",
              "      if (!google.colab.kernel.accessAllowed) {\n",
              "        return;\n",
              "      }\n",
              "      const div = document.createElement('div');\n",
              "      const label = document.createElement('label');\n",
              "      label.textContent = `Downloading \"${filename}\": `;\n",
              "      div.appendChild(label);\n",
              "      const progress = document.createElement('progress');\n",
              "      progress.max = size;\n",
              "      div.appendChild(progress);\n",
              "      document.body.appendChild(div);\n",
              "\n",
              "      const buffers = [];\n",
              "      let downloaded = 0;\n",
              "\n",
              "      const channel = await google.colab.kernel.comms.open(id);\n",
              "      // Send a message to notify the kernel that we're ready.\n",
              "      channel.send({})\n",
              "\n",
              "      for await (const message of channel.messages) {\n",
              "        // Send a message to notify the kernel that we're ready.\n",
              "        channel.send({})\n",
              "        if (message.buffers) {\n",
              "          for (const buffer of message.buffers) {\n",
              "            buffers.push(buffer);\n",
              "            downloaded += buffer.byteLength;\n",
              "            progress.value = downloaded;\n",
              "          }\n",
              "        }\n",
              "      }\n",
              "      const blob = new Blob(buffers, {type: 'application/binary'});\n",
              "      const a = document.createElement('a');\n",
              "      a.href = window.URL.createObjectURL(blob);\n",
              "      a.download = filename;\n",
              "      div.appendChild(a);\n",
              "      a.click();\n",
              "      div.remove();\n",
              "    }\n",
              "  "
            ],
            "text/plain": [
              "<IPython.core.display.Javascript object>"
            ]
          },
          "metadata": {},
          "output_type": "display_data"
        },
        {
          "data": {
            "application/javascript": [
              "download(\"download_4d309c58-05df-4687-8dd1-3c6345e64ebf\", \"submission_final.csv\", 290460)"
            ],
            "text/plain": [
              "<IPython.core.display.Javascript object>"
            ]
          },
          "metadata": {},
          "output_type": "display_data"
        }
      ],
      "source": [
        "from google.colab import files\n",
        "files.download('submission_final.csv')\n"
      ]
    }
  ],
  "metadata": {
    "accelerator": "GPU",
    "colab": {
      "gpuType": "T4",
      "provenance": [],
      "toc_visible": true,
      "include_colab_link": true
    },
    "kernelspec": {
      "display_name": "Python 3",
      "name": "python3"
    },
    "language_info": {
      "name": "python"
    }
  },
  "nbformat": 4,
  "nbformat_minor": 0
}